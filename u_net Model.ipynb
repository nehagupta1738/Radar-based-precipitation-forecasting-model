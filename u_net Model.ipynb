{
  "cells": [
    {
      "cell_type": "code",
      "execution_count": null,
      "metadata": {
        "id": "UwqnGiAofHup"
      },
      "outputs": [],
      "source": [
        "import numpy as np\n",
        "import tensorflow as tf\n",
        "import keras\n",
        "import tensorflow_probability as tfp\n",
        "from tensorflow.keras.layers import Input, Dense, Reshape\n",
        "from tensorflow.keras.models import Model\n",
        "from tensorflow.keras.optimizers import Adam\n",
        "from sklearn.preprocessing import MinMaxScaler"
      ]
    },
    {
      "cell_type": "code",
      "execution_count": null,
      "metadata": {
        "id": "akuBxb_AfLM8"
      },
      "outputs": [],
      "source": [
        "# Set the input and output shapes\n",
        "INPUT_SHAPE = (128, 128, 4)  # Input shape of the model\n",
        "OUTPUT_SHAPE = (128, 128, 1)  # Output shape of the model\n"
      ]
    },
    {
      "cell_type": "code",
      "execution_count": null,
      "metadata": {
        "colab": {
          "base_uri": "https://localhost:8080/"
        },
        "id": "zw_X597zxEAj",
        "outputId": "284c6813-59be-4e72-c312-53e89e2b36fc"
      },
      "outputs": [
        {
          "output_type": "stream",
          "name": "stdout",
          "text": [
            "Mounted at /content/drive\n"
          ]
        }
      ],
      "source": [
        "from google.colab import drive\n",
        "drive.mount('/content/drive')"
      ]
    },
    {
      "cell_type": "code",
      "source": [
        "min_max = '/content/drive/MyDrive/example1/min_max_scale_new.npy'\n",
        "min, max = np.load(min_max, encoding='bytes')\n",
        "print(min, max)"
      ],
      "metadata": {
        "id": "utKNwsA4DYRu",
        "colab": {
          "base_uri": "https://localhost:8080/"
        },
        "outputId": "126942d9-9fdf-4d58-ebc6-2ca57e502fac"
      },
      "execution_count": null,
      "outputs": [
        {
          "output_type": "stream",
          "name": "stdout",
          "text": [
            "-236.2857142857143 295.5714285714286\n"
          ]
        }
      ]
    },
    {
      "cell_type": "code",
      "execution_count": null,
      "metadata": {
        "id": "O5jOpSEHfYDg"
      },
      "outputs": [],
      "source": [
        "# Load and preprocess the data\n",
        "def load_data(file_path):\n",
        "    data = np.load(file_path)\n",
        "    return data\n",
        "\n",
        "def preprocess_data(file_list):\n",
        "    # data = []\n",
        "    # labels = []\n",
        "    loaded_data = []\n",
        "    for file_name in file_list:\n",
        "        file_path = '/content/drive/MyDrive/example1/' + file_name\n",
        "        loaded_data.append(load_data(file_path))\n",
        "    return np.array(loaded_data)\n",
        "\n",
        "\n",
        "def generate_data(data,min_train,max_train):\n",
        "    # data shape=(n_samples, row, col, timesteps)\n",
        "    n_samples=data.shape[0]\n",
        "    time_step=data.shape[3]\n",
        "    row=128\n",
        "    col=128\n",
        "\n",
        "    # replace the pixel of \"no echo (-127)\" as 0\n",
        "    data[data<=-127]=0\n",
        "\n",
        "    # for training dataset (t-30,t-20,t-10,t,1+10)\n",
        "    n_frames=4\n",
        "    movie_in=np.zeros((n_samples,row,col,n_frames))\n",
        "    movie_out=np.zeros((n_samples,row,col,1))\n",
        "    for i in range(n_samples):\n",
        "        for j in range(n_frames):\n",
        "            m_in=(255.*((data[i,::,::,j]+10.)/70.))+0.5\n",
        "            movie_in[i,::,::,j]=m_in\n",
        "        m_out=(255.*((data[i,::,::,-1]+10.)/70.))+0.5\n",
        "        movie_out[i,::,::,0]=m_out\n",
        "\n",
        "    # Min-max scaling\n",
        "    movie_in=(movie_in-min_train)/(max_train-min_train)\n",
        "    movie_out=(movie_out-min_train)/(max_train-min_train)\n",
        "\n",
        "    return movie_in, movie_out\n"
      ]
    },
    {
      "cell_type": "code",
      "execution_count": null,
      "metadata": {
        "id": "2OuZxTXtfla-"
      },
      "outputs": [],
      "source": [
        "# Load the training and testing data\n",
        "train_file_list = np.loadtxt('/content/drive/MyDrive/example1/radar_events_train.txt', dtype=str)\n",
        "test_file_list = np.loadtxt('/content/drive/MyDrive/example1/radar_events_test.txt', dtype=str)\n",
        "\n",
        "data_train = preprocess_data(train_file_list)\n",
        "data_test = preprocess_data(test_file_list)\n",
        "\n",
        "\n",
        "x_train, y_train = generate_data(data_train, min, max)\n",
        "x_test, y_test = generate_data(data_test, min, max)"
      ]
    },
    {
      "cell_type": "code",
      "source": [
        "import tensorflow as tf\n",
        "from keras.models import *\n",
        "from keras.layers import *\n",
        "from keras.optimizers import Adam\n",
        "\n",
        "def u_net_model(input_shape=(128,128,4)):\n",
        "\n",
        "    inputs = Input(input_shape)\n",
        "\n",
        "\n",
        "    conv1s = Conv2D(128, 3, padding='same', kernel_initializer='he_normal')(inputs)\n",
        "    bn1s = BatchNormalization()(conv1s)\n",
        "    act1s=Activation('relu')(bn1s)\n",
        "    pool1 = MaxPooling2D(pool_size=(2, 2))(act1s)\n",
        "    drop1=Dropout(0.5)(pool1)\n",
        "\n",
        "    conv2f = Conv2D(256, 3, padding='same', kernel_initializer='he_normal')(drop1)\n",
        "    bn2f = BatchNormalization()(conv2f)\n",
        "    act2f=Activation('relu')(bn2f)\n",
        "    conv2s = Conv2D(512, 3, padding='same', kernel_initializer='he_normal')(act2f)\n",
        "    bn2s = BatchNormalization()(conv2s)\n",
        "    act2s=Activation('relu')(bn2s)\n",
        "    pool2 = MaxPooling2D(pool_size=(2, 2))(act2s)\n",
        "    drop2=Dropout(0.5)(pool2)\n",
        "\n",
        "    conv3f = Conv2D(1024, 3, padding='same', kernel_initializer='he_normal')(drop2)\n",
        "    bn3f = BatchNormalization()(conv3f)\n",
        "    act3f=Activation('relu')(bn3f)\n",
        "    drop3 = Dropout(0.5)(act3f)\n",
        "\n",
        "    up4 = concatenate([UpSampling2D(size=(2, 2))(drop3), act2s], axis=3)\n",
        "    conv4f = Conv2D(512, 3, padding='same', kernel_initializer='he_normal')(up4)\n",
        "    bn4f = BatchNormalization()(conv4f)\n",
        "    act4f=Activation('relu')(bn4f)\n",
        "    drop4f=Dropout(0.5)(act4f)\n",
        "    conv4 = Conv2D(256, 3, padding='same',activation='relu', kernel_initializer='he_normal')(drop4f)\n",
        "    bn4 = BatchNormalization()(conv4)\n",
        "    act4=Activation('relu')(bn4)\n",
        "\n",
        "    up5 = concatenate([UpSampling2D(size=(2, 2))(act4), act1s], axis=3)\n",
        "    conv5f = Conv2D(128, 3, padding='same', kernel_initializer='he_normal')(up5)\n",
        "    bn5f = BatchNormalization()(conv5f)\n",
        "    act5f=Activation('relu')(bn5f)\n",
        "    drop5f=Dropout(0.5)(act5f)\n",
        "    conv5s = Conv2D(64, 3, padding='same', kernel_initializer='he_normal')(drop5f)\n",
        "    bn5s = BatchNormalization()(conv5s)\n",
        "    act5s=Activation('relu')(bn5s)\n",
        "    drop5s=Dropout(0.5)(act5s)\n",
        "    conv5 = Conv2D(2, 3, padding='same', kernel_initializer='he_normal')(drop5s)\n",
        "    bn5 = BatchNormalization()(conv5)\n",
        "    act5=Activation('relu')(bn5)\n",
        "\n",
        "    outputs = Conv2D(1, 1, activation='linear')(act5)\n",
        "\n",
        "    model = Model(inputs=inputs, outputs=outputs)\n",
        "    return model\n",
        "# Create an instance of the model\n",
        "model=u_net_model(input_shape=(128, 128, 4))\n",
        "\n",
        "# Print the model summary\n",
        "model.summary()"
      ],
      "metadata": {
        "colab": {
          "base_uri": "https://localhost:8080/"
        },
        "id": "sTJW7nHyt-Hj",
        "outputId": "db042dcb-5f94-4d9f-9281-9761d45c3def"
      },
      "execution_count": null,
      "outputs": [
        {
          "output_type": "stream",
          "name": "stdout",
          "text": [
            "Model: \"model\"\n",
            "__________________________________________________________________________________________________\n",
            " Layer (type)                   Output Shape         Param #     Connected to                     \n",
            "==================================================================================================\n",
            " input_1 (InputLayer)           [(None, 128, 128, 4  0           []                               \n",
            "                                )]                                                                \n",
            "                                                                                                  \n",
            " conv2d (Conv2D)                (None, 128, 128, 12  4736        ['input_1[0][0]']                \n",
            "                                8)                                                                \n",
            "                                                                                                  \n",
            " batch_normalization (BatchNorm  (None, 128, 128, 12  512        ['conv2d[0][0]']                 \n",
            " alization)                     8)                                                                \n",
            "                                                                                                  \n",
            " activation (Activation)        (None, 128, 128, 12  0           ['batch_normalization[0][0]']    \n",
            "                                8)                                                                \n",
            "                                                                                                  \n",
            " max_pooling2d (MaxPooling2D)   (None, 64, 64, 128)  0           ['activation[0][0]']             \n",
            "                                                                                                  \n",
            " dropout (Dropout)              (None, 64, 64, 128)  0           ['max_pooling2d[0][0]']          \n",
            "                                                                                                  \n",
            " conv2d_1 (Conv2D)              (None, 64, 64, 256)  295168      ['dropout[0][0]']                \n",
            "                                                                                                  \n",
            " batch_normalization_1 (BatchNo  (None, 64, 64, 256)  1024       ['conv2d_1[0][0]']               \n",
            " rmalization)                                                                                     \n",
            "                                                                                                  \n",
            " activation_1 (Activation)      (None, 64, 64, 256)  0           ['batch_normalization_1[0][0]']  \n",
            "                                                                                                  \n",
            " conv2d_2 (Conv2D)              (None, 64, 64, 512)  1180160     ['activation_1[0][0]']           \n",
            "                                                                                                  \n",
            " batch_normalization_2 (BatchNo  (None, 64, 64, 512)  2048       ['conv2d_2[0][0]']               \n",
            " rmalization)                                                                                     \n",
            "                                                                                                  \n",
            " activation_2 (Activation)      (None, 64, 64, 512)  0           ['batch_normalization_2[0][0]']  \n",
            "                                                                                                  \n",
            " max_pooling2d_1 (MaxPooling2D)  (None, 32, 32, 512)  0          ['activation_2[0][0]']           \n",
            "                                                                                                  \n",
            " dropout_1 (Dropout)            (None, 32, 32, 512)  0           ['max_pooling2d_1[0][0]']        \n",
            "                                                                                                  \n",
            " conv2d_3 (Conv2D)              (None, 32, 32, 1024  4719616     ['dropout_1[0][0]']              \n",
            "                                )                                                                 \n",
            "                                                                                                  \n",
            " batch_normalization_3 (BatchNo  (None, 32, 32, 1024  4096       ['conv2d_3[0][0]']               \n",
            " rmalization)                   )                                                                 \n",
            "                                                                                                  \n",
            " activation_3 (Activation)      (None, 32, 32, 1024  0           ['batch_normalization_3[0][0]']  \n",
            "                                )                                                                 \n",
            "                                                                                                  \n",
            " dropout_2 (Dropout)            (None, 32, 32, 1024  0           ['activation_3[0][0]']           \n",
            "                                )                                                                 \n",
            "                                                                                                  \n",
            " up_sampling2d (UpSampling2D)   (None, 64, 64, 1024  0           ['dropout_2[0][0]']              \n",
            "                                )                                                                 \n",
            "                                                                                                  \n",
            " concatenate (Concatenate)      (None, 64, 64, 1536  0           ['up_sampling2d[0][0]',          \n",
            "                                )                                 'activation_2[0][0]']           \n",
            "                                                                                                  \n",
            " conv2d_4 (Conv2D)              (None, 64, 64, 512)  7078400     ['concatenate[0][0]']            \n",
            "                                                                                                  \n",
            " batch_normalization_4 (BatchNo  (None, 64, 64, 512)  2048       ['conv2d_4[0][0]']               \n",
            " rmalization)                                                                                     \n",
            "                                                                                                  \n",
            " activation_4 (Activation)      (None, 64, 64, 512)  0           ['batch_normalization_4[0][0]']  \n",
            "                                                                                                  \n",
            " dropout_3 (Dropout)            (None, 64, 64, 512)  0           ['activation_4[0][0]']           \n",
            "                                                                                                  \n",
            " conv2d_5 (Conv2D)              (None, 64, 64, 256)  1179904     ['dropout_3[0][0]']              \n",
            "                                                                                                  \n",
            " batch_normalization_5 (BatchNo  (None, 64, 64, 256)  1024       ['conv2d_5[0][0]']               \n",
            " rmalization)                                                                                     \n",
            "                                                                                                  \n",
            " activation_5 (Activation)      (None, 64, 64, 256)  0           ['batch_normalization_5[0][0]']  \n",
            "                                                                                                  \n",
            " up_sampling2d_1 (UpSampling2D)  (None, 128, 128, 25  0          ['activation_5[0][0]']           \n",
            "                                6)                                                                \n",
            "                                                                                                  \n",
            " concatenate_1 (Concatenate)    (None, 128, 128, 38  0           ['up_sampling2d_1[0][0]',        \n",
            "                                4)                                'activation[0][0]']             \n",
            "                                                                                                  \n",
            " conv2d_6 (Conv2D)              (None, 128, 128, 12  442496      ['concatenate_1[0][0]']          \n",
            "                                8)                                                                \n",
            "                                                                                                  \n",
            " batch_normalization_6 (BatchNo  (None, 128, 128, 12  512        ['conv2d_6[0][0]']               \n",
            " rmalization)                   8)                                                                \n",
            "                                                                                                  \n",
            " activation_6 (Activation)      (None, 128, 128, 12  0           ['batch_normalization_6[0][0]']  \n",
            "                                8)                                                                \n",
            "                                                                                                  \n",
            " dropout_4 (Dropout)            (None, 128, 128, 12  0           ['activation_6[0][0]']           \n",
            "                                8)                                                                \n",
            "                                                                                                  \n",
            " conv2d_7 (Conv2D)              (None, 128, 128, 64  73792       ['dropout_4[0][0]']              \n",
            "                                )                                                                 \n",
            "                                                                                                  \n",
            " batch_normalization_7 (BatchNo  (None, 128, 128, 64  256        ['conv2d_7[0][0]']               \n",
            " rmalization)                   )                                                                 \n",
            "                                                                                                  \n",
            " activation_7 (Activation)      (None, 128, 128, 64  0           ['batch_normalization_7[0][0]']  \n",
            "                                )                                                                 \n",
            "                                                                                                  \n",
            " dropout_5 (Dropout)            (None, 128, 128, 64  0           ['activation_7[0][0]']           \n",
            "                                )                                                                 \n",
            "                                                                                                  \n",
            " conv2d_8 (Conv2D)              (None, 128, 128, 2)  1154        ['dropout_5[0][0]']              \n",
            "                                                                                                  \n",
            " batch_normalization_8 (BatchNo  (None, 128, 128, 2)  8          ['conv2d_8[0][0]']               \n",
            " rmalization)                                                                                     \n",
            "                                                                                                  \n",
            " activation_8 (Activation)      (None, 128, 128, 2)  0           ['batch_normalization_8[0][0]']  \n",
            "                                                                                                  \n",
            " conv2d_9 (Conv2D)              (None, 128, 128, 1)  3           ['activation_8[0][0]']           \n",
            "                                                                                                  \n",
            "==================================================================================================\n",
            "Total params: 14,986,957\n",
            "Trainable params: 14,981,193\n",
            "Non-trainable params: 5,764\n",
            "__________________________________________________________________________________________________\n"
          ]
        }
      ]
    },
    {
      "cell_type": "code",
      "source": [
        "model.compile(loss='binary_crossentropy')"
      ],
      "metadata": {
        "id": "VKoYTQZXu-4R"
      },
      "execution_count": null,
      "outputs": []
    },
    {
      "cell_type": "code",
      "source": [
        "# Train the model\n",
        "model.fit(x_train, y_train, batch_size=8, epochs=60)"
      ],
      "metadata": {
        "colab": {
          "base_uri": "https://localhost:8080/"
        },
        "id": "u8aeQsPlvMPj",
        "outputId": "97ba3fc8-a2da-497d-fce2-45f64a255371"
      },
      "execution_count": null,
      "outputs": [
        {
          "output_type": "stream",
          "name": "stdout",
          "text": [
            "Epoch 1/60\n",
            "7/7 [==============================] - 36s 1s/step - loss: 8.7699\n",
            "Epoch 2/60\n",
            "7/7 [==============================] - 2s 345ms/step - loss: 8.7699\n",
            "Epoch 3/60\n",
            "7/7 [==============================] - 2s 345ms/step - loss: 8.7699\n",
            "Epoch 4/60\n",
            "7/7 [==============================] - 2s 346ms/step - loss: 8.7699\n",
            "Epoch 5/60\n",
            "7/7 [==============================] - 2s 348ms/step - loss: 8.7699\n",
            "Epoch 6/60\n",
            "7/7 [==============================] - 2s 348ms/step - loss: 8.7699\n",
            "Epoch 7/60\n",
            "7/7 [==============================] - 2s 350ms/step - loss: 8.7699\n",
            "Epoch 8/60\n",
            "7/7 [==============================] - 2s 350ms/step - loss: 8.7699\n",
            "Epoch 9/60\n",
            "7/7 [==============================] - 3s 352ms/step - loss: 8.7699\n",
            "Epoch 10/60\n",
            "7/7 [==============================] - 3s 353ms/step - loss: 8.7699\n",
            "Epoch 11/60\n",
            "7/7 [==============================] - 3s 353ms/step - loss: 8.7699\n",
            "Epoch 12/60\n",
            "7/7 [==============================] - 3s 356ms/step - loss: 8.7699\n",
            "Epoch 13/60\n",
            "7/7 [==============================] - 3s 356ms/step - loss: 8.7699\n",
            "Epoch 14/60\n",
            "7/7 [==============================] - 3s 357ms/step - loss: 8.7699\n",
            "Epoch 15/60\n",
            "7/7 [==============================] - 3s 357ms/step - loss: 8.7699\n",
            "Epoch 16/60\n",
            "7/7 [==============================] - 3s 358ms/step - loss: 8.7699\n",
            "Epoch 17/60\n",
            "7/7 [==============================] - 3s 358ms/step - loss: 8.7699\n",
            "Epoch 18/60\n",
            "7/7 [==============================] - 3s 361ms/step - loss: 8.7699\n",
            "Epoch 19/60\n",
            "7/7 [==============================] - 3s 360ms/step - loss: 8.7699\n",
            "Epoch 20/60\n",
            "7/7 [==============================] - 3s 360ms/step - loss: 8.7699\n",
            "Epoch 21/60\n",
            "7/7 [==============================] - 3s 358ms/step - loss: 8.7699\n",
            "Epoch 22/60\n",
            "7/7 [==============================] - 3s 357ms/step - loss: 8.7699\n",
            "Epoch 23/60\n",
            "7/7 [==============================] - 3s 357ms/step - loss: 8.7699\n",
            "Epoch 24/60\n",
            "7/7 [==============================] - 3s 356ms/step - loss: 8.7699\n",
            "Epoch 25/60\n",
            "7/7 [==============================] - 3s 355ms/step - loss: 8.7699\n",
            "Epoch 26/60\n",
            "7/7 [==============================] - 3s 354ms/step - loss: 8.7699\n",
            "Epoch 27/60\n",
            "7/7 [==============================] - 3s 354ms/step - loss: 8.7699\n",
            "Epoch 28/60\n",
            "7/7 [==============================] - 3s 353ms/step - loss: 8.7699\n",
            "Epoch 29/60\n",
            "7/7 [==============================] - 3s 352ms/step - loss: 8.7699\n",
            "Epoch 30/60\n",
            "7/7 [==============================] - 3s 352ms/step - loss: 8.7699\n",
            "Epoch 31/60\n",
            "7/7 [==============================] - 3s 351ms/step - loss: 8.7699\n",
            "Epoch 32/60\n",
            "7/7 [==============================] - 3s 351ms/step - loss: 8.7699\n",
            "Epoch 33/60\n",
            "7/7 [==============================] - 2s 351ms/step - loss: 8.7699\n",
            "Epoch 34/60\n",
            "7/7 [==============================] - 2s 350ms/step - loss: 8.7699\n",
            "Epoch 35/60\n",
            "7/7 [==============================] - 2s 350ms/step - loss: 8.7699\n",
            "Epoch 36/60\n",
            "7/7 [==============================] - 2s 350ms/step - loss: 8.7699\n",
            "Epoch 37/60\n",
            "7/7 [==============================] - 2s 350ms/step - loss: 8.7699\n",
            "Epoch 38/60\n",
            "7/7 [==============================] - 2s 350ms/step - loss: 8.7699\n",
            "Epoch 39/60\n",
            "7/7 [==============================] - 2s 350ms/step - loss: 8.7699\n",
            "Epoch 40/60\n",
            "7/7 [==============================] - 2s 350ms/step - loss: 8.7699\n",
            "Epoch 41/60\n",
            "7/7 [==============================] - 3s 351ms/step - loss: 8.7699\n",
            "Epoch 42/60\n",
            "7/7 [==============================] - 3s 352ms/step - loss: 8.7699\n",
            "Epoch 43/60\n",
            "7/7 [==============================] - 3s 351ms/step - loss: 8.7699\n",
            "Epoch 44/60\n",
            "7/7 [==============================] - 3s 352ms/step - loss: 8.7699\n",
            "Epoch 45/60\n",
            "7/7 [==============================] - 3s 352ms/step - loss: 8.7699\n",
            "Epoch 46/60\n",
            "7/7 [==============================] - 3s 353ms/step - loss: 8.7699\n",
            "Epoch 47/60\n",
            "7/7 [==============================] - 3s 353ms/step - loss: 8.7699\n",
            "Epoch 48/60\n",
            "7/7 [==============================] - 3s 354ms/step - loss: 8.7699\n",
            "Epoch 49/60\n",
            "7/7 [==============================] - 3s 354ms/step - loss: 8.7699\n",
            "Epoch 50/60\n",
            "7/7 [==============================] - 3s 354ms/step - loss: 8.7699\n",
            "Epoch 51/60\n",
            "7/7 [==============================] - 3s 354ms/step - loss: 8.7699\n",
            "Epoch 52/60\n",
            "7/7 [==============================] - 3s 355ms/step - loss: 8.7699\n",
            "Epoch 53/60\n",
            "7/7 [==============================] - 3s 354ms/step - loss: 8.7699\n",
            "Epoch 54/60\n",
            "7/7 [==============================] - 3s 354ms/step - loss: 8.7699\n",
            "Epoch 55/60\n",
            "7/7 [==============================] - 3s 355ms/step - loss: 8.7699\n",
            "Epoch 56/60\n",
            "7/7 [==============================] - 3s 355ms/step - loss: 8.7699\n",
            "Epoch 57/60\n",
            "7/7 [==============================] - 3s 354ms/step - loss: 8.7699\n",
            "Epoch 58/60\n",
            "7/7 [==============================] - 3s 354ms/step - loss: 8.7699\n",
            "Epoch 59/60\n",
            "7/7 [==============================] - 3s 354ms/step - loss: 8.7699\n",
            "Epoch 60/60\n",
            "7/7 [==============================] - 3s 354ms/step - loss: 8.7699\n"
          ]
        },
        {
          "output_type": "execute_result",
          "data": {
            "text/plain": [
              "<keras.callbacks.History at 0x7f8f73b4a830>"
            ]
          },
          "metadata": {},
          "execution_count": 18
        }
      ]
    },
    {
      "cell_type": "code",
      "source": [
        "from tensorflow.keras.callbacks import EarlyStopping\n",
        "\n",
        "epochs = 100\n",
        "patience = 50\n",
        "\n",
        "# Create the EarlyStopping callback\n",
        "early_stopping = EarlyStopping(monitor='loss', patience=patience)\n",
        "\n",
        "# Train the model\n",
        "history = model.fit(x_train, y_train, batch_size=8, epochs=epochs, callbacks=[early_stopping])\n",
        "\n",
        "# Access the training history\n",
        "loss_values = history.history['loss']"
      ],
      "metadata": {
        "colab": {
          "base_uri": "https://localhost:8080/"
        },
        "id": "WD24DRlNYLXJ",
        "outputId": "2777e786-03fb-4c61-aa96-fe7da8255cdf"
      },
      "execution_count": null,
      "outputs": [
        {
          "output_type": "stream",
          "name": "stdout",
          "text": [
            "Epoch 1/100\n",
            "7/7 [==============================] - 3s 355ms/step - loss: 8.7699\n",
            "Epoch 2/100\n",
            "7/7 [==============================] - 3s 353ms/step - loss: 8.7699\n",
            "Epoch 3/100\n",
            "7/7 [==============================] - 3s 353ms/step - loss: 8.7699\n",
            "Epoch 4/100\n",
            "7/7 [==============================] - 3s 353ms/step - loss: 8.7699\n",
            "Epoch 5/100\n",
            "7/7 [==============================] - 3s 354ms/step - loss: 8.7699\n",
            "Epoch 6/100\n",
            "7/7 [==============================] - 3s 353ms/step - loss: 8.7699\n",
            "Epoch 7/100\n",
            "7/7 [==============================] - 3s 353ms/step - loss: 8.7699\n",
            "Epoch 8/100\n",
            "7/7 [==============================] - 3s 352ms/step - loss: 8.7699\n",
            "Epoch 9/100\n",
            "7/7 [==============================] - 3s 353ms/step - loss: 8.7699\n",
            "Epoch 10/100\n",
            "7/7 [==============================] - 3s 352ms/step - loss: 8.7699\n",
            "Epoch 11/100\n",
            "7/7 [==============================] - 3s 352ms/step - loss: 8.7699\n",
            "Epoch 12/100\n",
            "7/7 [==============================] - 3s 353ms/step - loss: 8.7699\n",
            "Epoch 13/100\n",
            "7/7 [==============================] - 3s 353ms/step - loss: 8.7699\n",
            "Epoch 14/100\n",
            "7/7 [==============================] - 3s 353ms/step - loss: 8.7699\n",
            "Epoch 15/100\n",
            "7/7 [==============================] - 3s 352ms/step - loss: 8.7699\n",
            "Epoch 16/100\n",
            "7/7 [==============================] - 3s 352ms/step - loss: 8.7699\n",
            "Epoch 17/100\n",
            "7/7 [==============================] - 3s 353ms/step - loss: 8.7699\n",
            "Epoch 18/100\n",
            "7/7 [==============================] - 3s 352ms/step - loss: 8.7699\n",
            "Epoch 19/100\n",
            "7/7 [==============================] - 3s 352ms/step - loss: 8.7699\n",
            "Epoch 20/100\n",
            "7/7 [==============================] - 3s 353ms/step - loss: 8.7699\n",
            "Epoch 21/100\n",
            "7/7 [==============================] - 3s 353ms/step - loss: 8.7699\n",
            "Epoch 22/100\n",
            "7/7 [==============================] - 3s 353ms/step - loss: 8.7699\n",
            "Epoch 23/100\n",
            "7/7 [==============================] - 3s 353ms/step - loss: 8.7699\n",
            "Epoch 24/100\n",
            "7/7 [==============================] - 3s 353ms/step - loss: 8.7699\n",
            "Epoch 25/100\n",
            "7/7 [==============================] - 3s 353ms/step - loss: 8.7699\n",
            "Epoch 26/100\n",
            "7/7 [==============================] - 3s 353ms/step - loss: 8.7699\n",
            "Epoch 27/100\n",
            "7/7 [==============================] - 3s 353ms/step - loss: 8.7699\n",
            "Epoch 28/100\n",
            "7/7 [==============================] - 3s 353ms/step - loss: 8.7699\n",
            "Epoch 29/100\n",
            "7/7 [==============================] - 3s 353ms/step - loss: 8.7699\n",
            "Epoch 30/100\n",
            "7/7 [==============================] - 3s 353ms/step - loss: 8.7699\n",
            "Epoch 31/100\n",
            "7/7 [==============================] - 3s 354ms/step - loss: 8.7699\n",
            "Epoch 32/100\n",
            "7/7 [==============================] - 3s 353ms/step - loss: 8.7699\n",
            "Epoch 33/100\n",
            "7/7 [==============================] - 3s 352ms/step - loss: 8.7699\n",
            "Epoch 34/100\n",
            "7/7 [==============================] - 3s 353ms/step - loss: 8.7699\n",
            "Epoch 35/100\n",
            "7/7 [==============================] - 3s 353ms/step - loss: 8.7699\n",
            "Epoch 36/100\n",
            "7/7 [==============================] - 3s 353ms/step - loss: 8.7699\n",
            "Epoch 37/100\n",
            "7/7 [==============================] - 3s 354ms/step - loss: 8.7699\n",
            "Epoch 38/100\n",
            "7/7 [==============================] - 3s 352ms/step - loss: 8.7699\n",
            "Epoch 39/100\n",
            "7/7 [==============================] - 3s 354ms/step - loss: 8.7699\n",
            "Epoch 40/100\n",
            "7/7 [==============================] - 3s 353ms/step - loss: 8.7699\n",
            "Epoch 41/100\n",
            "7/7 [==============================] - 3s 354ms/step - loss: 8.7699\n",
            "Epoch 42/100\n",
            "7/7 [==============================] - 3s 354ms/step - loss: 8.7699\n",
            "Epoch 43/100\n",
            "7/7 [==============================] - 3s 353ms/step - loss: 8.7699\n",
            "Epoch 44/100\n",
            "7/7 [==============================] - 3s 353ms/step - loss: 8.7699\n",
            "Epoch 45/100\n",
            "7/7 [==============================] - 3s 353ms/step - loss: 8.7699\n",
            "Epoch 46/100\n",
            "7/7 [==============================] - 3s 354ms/step - loss: 8.7699\n",
            "Epoch 47/100\n",
            "7/7 [==============================] - 3s 353ms/step - loss: 8.7699\n",
            "Epoch 48/100\n",
            "7/7 [==============================] - 3s 352ms/step - loss: 8.7699\n",
            "Epoch 49/100\n",
            "7/7 [==============================] - 3s 353ms/step - loss: 8.7699\n",
            "Epoch 50/100\n",
            "7/7 [==============================] - 3s 352ms/step - loss: 8.7699\n",
            "Epoch 51/100\n",
            "7/7 [==============================] - 3s 353ms/step - loss: 8.7699\n",
            "Epoch 52/100\n",
            "7/7 [==============================] - 3s 353ms/step - loss: 8.7699\n",
            "Epoch 53/100\n",
            "7/7 [==============================] - 3s 353ms/step - loss: 8.7699\n",
            "Epoch 54/100\n",
            "7/7 [==============================] - 3s 353ms/step - loss: 8.7699\n",
            "Epoch 55/100\n",
            "7/7 [==============================] - 3s 353ms/step - loss: 8.7699\n",
            "Epoch 56/100\n",
            "7/7 [==============================] - 3s 354ms/step - loss: 8.7699\n",
            "Epoch 57/100\n",
            "7/7 [==============================] - 3s 354ms/step - loss: 8.7699\n",
            "Epoch 58/100\n",
            "7/7 [==============================] - 3s 353ms/step - loss: 8.7699\n",
            "Epoch 59/100\n",
            "7/7 [==============================] - 3s 353ms/step - loss: 8.7699\n"
          ]
        }
      ]
    },
    {
      "cell_type": "code",
      "source": [
        "# Evaluate the model on test data\n",
        "loss = model.evaluate(x_test, y_test, verbose=0)\n",
        "print(loss)"
      ],
      "metadata": {
        "colab": {
          "base_uri": "https://localhost:8080/"
        },
        "id": "ERTFJYf4LKc3",
        "outputId": "7f82d478-18d3-4654-e5af-caeaa10e88e8"
      },
      "execution_count": null,
      "outputs": [
        {
          "output_type": "stream",
          "name": "stdout",
          "text": [
            "9.90571403503418\n"
          ]
        }
      ]
    },
    {
      "cell_type": "code",
      "source": [
        "predictions= model.predict(x_test)"
      ],
      "metadata": {
        "colab": {
          "base_uri": "https://localhost:8080/"
        },
        "id": "h97CSgckMQA_",
        "outputId": "cf0c3dc5-5619-47b5-fafd-97147e1b5e1d"
      },
      "execution_count": null,
      "outputs": [
        {
          "output_type": "stream",
          "name": "stdout",
          "text": [
            "1/1 [==============================] - 0s 239ms/step\n"
          ]
        }
      ]
    },
    {
      "cell_type": "code",
      "execution_count": null,
      "metadata": {
        "id": "cTFBNIwTf6TU"
      },
      "outputs": [],
      "source": [
        "# Save the trained model\n",
        "model.save('u_net_model.h5')"
      ]
    }
  ],
  "metadata": {
    "accelerator": "GPU",
    "colab": {
      "provenance": [],
      "gpuType": "T4",
      "machine_shape": "hm"
    },
    "kernelspec": {
      "display_name": "Python 3",
      "name": "python3"
    },
    "language_info": {
      "name": "python"
    }
  },
  "nbformat": 4,
  "nbformat_minor": 0
}